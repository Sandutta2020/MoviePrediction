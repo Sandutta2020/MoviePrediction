{
 "cells": [
  {
   "cell_type": "code",
   "execution_count": 1,
   "metadata": {},
   "outputs": [],
   "source": [
    "import pandas as pd"
   ]
  },
  {
   "cell_type": "code",
   "execution_count": 11,
   "metadata": {},
   "outputs": [],
   "source": [
    "rating_df = pd.read_csv(\n",
    "    \"https://raw.githubusercontent.com/Santanukolkata/Data_Science/master/datasets/ratings.dat\",\n",
    "    delimiter=\"::\",\n",
    "    engine=\"python\",\n",
    "    names=[\"UserID\", \"MovieID\", \"Rating\", \"Timestamp\"],\n",
    "    header=None,\n",
    "    encoding=\"ISO-8859-1\",\n",
    ")"
   ]
  },
  {
   "cell_type": "code",
   "execution_count": 12,
   "metadata": {},
   "outputs": [],
   "source": [
    "movies_df = pd.read_csv(\n",
    "    \"https://raw.githubusercontent.com/Santanukolkata/Data_Science/master/datasets/movies.dat\",\n",
    "    delimiter=\"::\",\n",
    "    engine=\"python\",\n",
    "    names=[\"MovieID\", \"Title\", \"Genres\"],\n",
    "    header=None,\n",
    "    encoding=\"ISO-8859-1\")"
   ]
  },
  {
   "cell_type": "code",
   "execution_count": 13,
   "metadata": {},
   "outputs": [],
   "source": [
    "df = pd.merge(movies_df, rating_df, on='MovieID')\n",
    "columns =['MovieID','Title','UserID','Rating']\n",
    "df = df[columns]"
   ]
  },
  {
   "cell_type": "code",
   "execution_count": 14,
   "metadata": {},
   "outputs": [],
   "source": [
    "moviemat = df.pivot_table(index='UserID', columns='Title', values='Rating')"
   ]
  },
  {
   "cell_type": "code",
   "execution_count": null,
   "metadata": {},
   "outputs": [],
   "source": [
    "for movies in moviemat.columns:\n",
    "    \n",
    "    "
   ]
  },
  {
   "cell_type": "code",
   "execution_count": null,
   "metadata": {},
   "outputs": [],
   "source": []
  }
 ],
 "metadata": {
  "kernelspec": {
   "display_name": "Python 3",
   "language": "python",
   "name": "python3"
  },
  "language_info": {
   "codemirror_mode": {
    "name": "ipython",
    "version": 3
   },
   "file_extension": ".py",
   "mimetype": "text/x-python",
   "name": "python",
   "nbconvert_exporter": "python",
   "pygments_lexer": "ipython3",
   "version": "3.7.6"
  }
 },
 "nbformat": 4,
 "nbformat_minor": 4
}
